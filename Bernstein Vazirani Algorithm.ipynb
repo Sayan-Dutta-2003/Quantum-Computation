{
 "cells": [
  {
   "cell_type": "code",
   "execution_count": 29,
   "id": "ee7c6c87",
   "metadata": {},
   "outputs": [],
   "source": [
    "from qiskit import *\n",
    "%matplotlib inline\n",
    "from qiskit.tools.visualization import plot_histogram\n",
    "from qiskit.visualization import circuit_drawer"
   ]
  },
  {
   "cell_type": "code",
   "execution_count": 59,
   "id": "a4986ddf",
   "metadata": {},
   "outputs": [],
   "source": [
    "secretnumber = '11100001'"
   ]
  },
  {
   "cell_type": "code",
   "execution_count": 61,
   "id": "58a01473",
   "metadata": {},
   "outputs": [
    {
     "data": {
      "text/plain": [
       "<qiskit.circuit.instructionset.InstructionSet at 0x1696512e890>"
      ]
     },
     "execution_count": 61,
     "metadata": {},
     "output_type": "execute_result"
    }
   ],
   "source": [
    "circuit = QuantumCircuit(len(secretnumber)+1, len(secretnumber))\n",
    "\n",
    "# circuit.h([0, 1, 2, 3, 4, 5])\n",
    "circuit.h(range(len(secretnumber)))\n",
    "\n",
    "# circuit.x(6)\n",
    "# circuit.h(6)\n",
    "circuit.x(len(secretnumber))\n",
    "circuit.h(len(secretnumber))\n",
    "\n",
    "circuit.barrier()\n",
    "\n",
    "# for every '1' that I see in the secret number,I'm going to put a cX gate.\n",
    "# circuit.cx(5,6)\n",
    "# circuit.cx(3,6)\n",
    "# circuit.cx(0,6)\n",
    "\n",
    "for ii, yesno in enumerate(reversed(secretnumber)):\n",
    "    if yesno == '1':\n",
    "        circuit.cx(ii, len(secretnumber))\n",
    "        \n",
    "\n",
    "circuit.barrier()\n",
    "\n",
    "# circuit.h([0, 1, 2, 3, 4, 5])\n",
    "circuit.h(range(len(secretnumber)))\n",
    "\n",
    "circuit.barrier()\n",
    "\n",
    "# circuit.measure([0, 1, 2, 3, 4, 5], [0, 1, 2, 3, 4, 5])\n",
    "circuit.measure(range(len(secretnumber)), range(len(secretnumber)))\n"
   ]
  },
  {
   "cell_type": "code",
   "execution_count": 63,
   "id": "1c1c5d99",
   "metadata": {
    "scrolled": true
   },
   "outputs": [
    {
     "data": {
      "text/html": [
       "<pre style=\"word-wrap: normal;white-space: pre;background: #fff0;line-height: 1.1;font-family: &quot;Courier New&quot;,Courier,monospace\">     ┌───┐      ░                      ░ ┌───┐ ░ ┌─┐                     \n",
       "q_0: ┤ H ├──────░───■──────────────────░─┤ H ├─░─┤M├─────────────────────\n",
       "     ├───┤      ░   │                  ░ ├───┤ ░ └╥┘┌─┐                  \n",
       "q_1: ┤ H ├──────░───┼──────────────────░─┤ H ├─░──╫─┤M├──────────────────\n",
       "     ├───┤      ░   │                  ░ ├───┤ ░  ║ └╥┘┌─┐               \n",
       "q_2: ┤ H ├──────░───┼──────────────────░─┤ H ├─░──╫──╫─┤M├───────────────\n",
       "     ├───┤      ░   │                  ░ ├───┤ ░  ║  ║ └╥┘┌─┐            \n",
       "q_3: ┤ H ├──────░───┼──────────────────░─┤ H ├─░──╫──╫──╫─┤M├────────────\n",
       "     ├───┤      ░   │                  ░ ├───┤ ░  ║  ║  ║ └╥┘┌─┐         \n",
       "q_4: ┤ H ├──────░───┼──────────────────░─┤ H ├─░──╫──╫──╫──╫─┤M├─────────\n",
       "     ├───┤      ░   │                  ░ ├───┤ ░  ║  ║  ║  ║ └╥┘┌─┐      \n",
       "q_5: ┤ H ├──────░───┼────■─────────────░─┤ H ├─░──╫──╫──╫──╫──╫─┤M├──────\n",
       "     ├───┤      ░   │    │             ░ ├───┤ ░  ║  ║  ║  ║  ║ └╥┘┌─┐   \n",
       "q_6: ┤ H ├──────░───┼────┼────■────────░─┤ H ├─░──╫──╫──╫──╫──╫──╫─┤M├───\n",
       "     ├───┤      ░   │    │    │        ░ ├───┤ ░  ║  ║  ║  ║  ║  ║ └╥┘┌─┐\n",
       "q_7: ┤ H ├──────░───┼────┼────┼────■───░─┤ H ├─░──╫──╫──╫──╫──╫──╫──╫─┤M├\n",
       "     ├───┤┌───┐ ░ ┌─┴─┐┌─┴─┐┌─┴─┐┌─┴─┐ ░ └───┘ ░  ║  ║  ║  ║  ║  ║  ║ └╥┘\n",
       "q_8: ┤ X ├┤ H ├─░─┤ X ├┤ X ├┤ X ├┤ X ├─░───────░──╫──╫──╫──╫──╫──╫──╫──╫─\n",
       "     └───┘└───┘ ░ └───┘└───┘└───┘└───┘ ░       ░  ║  ║  ║  ║  ║  ║  ║  ║ \n",
       "c: 8/═════════════════════════════════════════════╩══╩══╩══╩══╩══╩══╩══╩═\n",
       "                                                  0  1  2  3  4  5  6  7 </pre>"
      ],
      "text/plain": [
       "     ┌───┐      ░                      ░ ┌───┐ ░ ┌─┐                     \n",
       "q_0: ┤ H ├──────░───■──────────────────░─┤ H ├─░─┤M├─────────────────────\n",
       "     ├───┤      ░   │                  ░ ├───┤ ░ └╥┘┌─┐                  \n",
       "q_1: ┤ H ├──────░───┼──────────────────░─┤ H ├─░──╫─┤M├──────────────────\n",
       "     ├───┤      ░   │                  ░ ├───┤ ░  ║ └╥┘┌─┐               \n",
       "q_2: ┤ H ├──────░───┼──────────────────░─┤ H ├─░──╫──╫─┤M├───────────────\n",
       "     ├───┤      ░   │                  ░ ├───┤ ░  ║  ║ └╥┘┌─┐            \n",
       "q_3: ┤ H ├──────░───┼──────────────────░─┤ H ├─░──╫──╫──╫─┤M├────────────\n",
       "     ├───┤      ░   │                  ░ ├───┤ ░  ║  ║  ║ └╥┘┌─┐         \n",
       "q_4: ┤ H ├──────░───┼──────────────────░─┤ H ├─░──╫──╫──╫──╫─┤M├─────────\n",
       "     ├───┤      ░   │                  ░ ├───┤ ░  ║  ║  ║  ║ └╥┘┌─┐      \n",
       "q_5: ┤ H ├──────░───┼────■─────────────░─┤ H ├─░──╫──╫──╫──╫──╫─┤M├──────\n",
       "     ├───┤      ░   │    │             ░ ├───┤ ░  ║  ║  ║  ║  ║ └╥┘┌─┐   \n",
       "q_6: ┤ H ├──────░───┼────┼────■────────░─┤ H ├─░──╫──╫──╫──╫──╫──╫─┤M├───\n",
       "     ├───┤      ░   │    │    │        ░ ├───┤ ░  ║  ║  ║  ║  ║  ║ └╥┘┌─┐\n",
       "q_7: ┤ H ├──────░───┼────┼────┼────■───░─┤ H ├─░──╫──╫──╫──╫──╫──╫──╫─┤M├\n",
       "     ├───┤┌───┐ ░ ┌─┴─┐┌─┴─┐┌─┴─┐┌─┴─┐ ░ └───┘ ░  ║  ║  ║  ║  ║  ║  ║ └╥┘\n",
       "q_8: ┤ X ├┤ H ├─░─┤ X ├┤ X ├┤ X ├┤ X ├─░───────░──╫──╫──╫──╫──╫──╫──╫──╫─\n",
       "     └───┘└───┘ ░ └───┘└───┘└───┘└───┘ ░       ░  ║  ║  ║  ║  ║  ║  ║  ║ \n",
       "c: 8/═════════════════════════════════════════════╩══╩══╩══╩══╩══╩══╩══╩═\n",
       "                                                  0  1  2  3  4  5  6  7 "
      ]
     },
     "execution_count": 63,
     "metadata": {},
     "output_type": "execute_result"
    }
   ],
   "source": [
    "circuit.draw()"
   ]
  },
  {
   "cell_type": "code",
   "execution_count": 62,
   "id": "e089af22",
   "metadata": {},
   "outputs": [
    {
     "name": "stdout",
     "output_type": "stream",
     "text": [
      "{'11100001': 1}\n"
     ]
    }
   ],
   "source": [
    "simulator = Aer.get_backend('qasm_simulator')\n",
    "result = execute(circuit, backend = simulator, shots = 1). result()\n",
    "counts = result.get_counts()\n",
    "print(counts)"
   ]
  },
  {
   "cell_type": "code",
   "execution_count": null,
   "id": "8622ba8d",
   "metadata": {},
   "outputs": [],
   "source": []
  }
 ],
 "metadata": {
  "kernelspec": {
   "display_name": "Python 3 (ipykernel)",
   "language": "python",
   "name": "python3"
  },
  "language_info": {
   "codemirror_mode": {
    "name": "ipython",
    "version": 3
   },
   "file_extension": ".py",
   "mimetype": "text/x-python",
   "name": "python",
   "nbconvert_exporter": "python",
   "pygments_lexer": "ipython3",
   "version": "3.10.9"
  }
 },
 "nbformat": 4,
 "nbformat_minor": 5
}
